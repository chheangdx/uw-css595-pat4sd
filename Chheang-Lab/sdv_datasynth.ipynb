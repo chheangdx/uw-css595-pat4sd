{
 "cells": [
  {
   "cell_type": "markdown",
   "metadata": {},
   "source": [
    "## Library Imports and Parameters\n",
    "Import the SDV library and verify that it is installed properly.\n"
   ]
  },
  {
   "cell_type": "code",
   "execution_count": 2,
   "metadata": {},
   "outputs": [
    {
     "name": "stdout",
     "output_type": "stream",
     "text": [
      "1.4.0\n"
     ]
    }
   ],
   "source": [
    "import pandas as pd \n",
    "import sdv\n",
    "print(sdv.__version__)\n",
    "\n",
    "# load each sdv module that we support\n",
    "from sdv.single_table.base import BaseSingleTableSynthesizer\n",
    "from sdv.single_table import CTGANSynthesizer\n",
    "from sdv.metadata import SingleTableMetadata\n",
    "import graphviz"
   ]
  },
  {
   "cell_type": "markdown",
   "metadata": {},
   "source": [
    "Parameters: Select each dataset and algorithm to use."
   ]
  },
  {
   "cell_type": "code",
   "execution_count": 5,
   "metadata": {},
   "outputs": [],
   "source": [
    "#set this variable\n",
    "param = [0,0]\n",
    "create_metadata = False\n",
    "create_synthesizer = False\n",
    "\n",
    "datasets = ['datasets/adults_train']\n",
    "algorithms = ['ctgan', 'tvae', 'gaussiancopula', 'copulagan']"
   ]
  },
  {
   "cell_type": "markdown",
   "metadata": {},
   "source": [
    "## Dataset Load Block\n",
    "Used to load the dataset to process for synthetic data generation.\n",
    "Including any preprocessing needed for the data."
   ]
  },
  {
   "cell_type": "code",
   "execution_count": 6,
   "metadata": {},
   "outputs": [
    {
     "name": "stdout",
     "output_type": "stream",
     "text": [
      "Loading Data\n"
     ]
    }
   ],
   "source": [
    "dataset_selection = datasets[param[0]]\n",
    "dataframe = pd.DataFrame()\n",
    "\n",
    "print(\"Loading Data\")\n",
    "try:\n",
    "    dataframe = pd.read_parquet(dataset_selection+'.parquet')\n",
    "except:\n",
    "    print(\"ERROR: Unable to open file. Possibly due to invalid data selection.\")\n",
    "else:\n",
    "    if dataframe.size == 0:\n",
    "        print(\"ERROR: Dataframe has not loaded.\")\n",
    "    "
   ]
  },
  {
   "cell_type": "markdown",
   "metadata": {},
   "source": [
    "## Metadata Creation/Loading Block"
   ]
  },
  {
   "cell_type": "markdown",
   "metadata": {},
   "source": [
    "Automatically create the metadata"
   ]
  },
  {
   "cell_type": "code",
   "execution_count": 7,
   "metadata": {},
   "outputs": [
    {
     "name": "stdout",
     "output_type": "stream",
     "text": [
      "Loading Metadata\n"
     ]
    }
   ],
   "source": [
    "metadata = SingleTableMetadata()\n",
    "\n",
    "if not create_metadata:\n",
    "    print(\"Loading Metadata\")\n",
    "    metadata = SingleTableMetadata.load_from_json(dataset_selection+'.json')\n",
    "else:\n",
    "    print(\"Automatically detecting Metadata\")\n",
    "    metadata.detect_from_dataframe(dataframe)"
   ]
  },
  {
   "cell_type": "markdown",
   "metadata": {},
   "source": [
    "Inspect and Validate the Metadata.\n",
    "Common types are 'boolean', 'categorical', 'datetime', 'numerical' and 'id'. Full list of types at: https://docs.sdv.dev/sdv/reference/metadata-spec/sdtypes"
   ]
  },
  {
   "cell_type": "code",
   "execution_count": 38,
   "metadata": {},
   "outputs": [
    {
     "name": "stdout",
     "output_type": "stream",
     "text": [
      "Round 1: Inspect and Validate\n",
      "{'age': {'sdtype': 'numerical'}, 'type_employer': {'sdtype': 'categorical'}, 'fnlwgt': {'sdtype': 'numerical'}, 'education': {'sdtype': 'categorical'}, 'education_num': {'sdtype': 'numerical'}, 'marital': {'sdtype': 'categorical'}, 'occupation': {'sdtype': 'categorical'}, 'relationship': {'sdtype': 'categorical'}, 'race': {'sdtype': 'categorical'}, 'sex': {'sdtype': 'categorical'}, 'capital_gain': {'sdtype': 'numerical'}, 'capital_loss': {'sdtype': 'numerical'}, 'hr_per_week': {'sdtype': 'numerical'}, 'country': {'sdtype': 'categorical'}, 'income': {'sdtype': 'categorical'}}\n"
     ]
    }
   ],
   "source": [
    "if create_metadata:\n",
    "    print(\"Round 1: Inspect and Validate\")\n",
    "    metadata_dict = metadata.to_dict()['columns']\n",
    "    print(metadata_dict)\n",
    "    metadata.visualize(\n",
    "        show_table_details='full',\n",
    "        output_filepath=dataset_selection+'_metadata_stats.png'\n",
    "    )\n",
    "    # there should be no error messages caused by the following method calls\n",
    "    metadata.validate()\n",
    "    metadata.validate_data(dataframe)"
   ]
  },
  {
   "cell_type": "markdown",
   "metadata": {},
   "source": [
    "Update the Metadata. \n",
    "Modify this code as needed based on the results of the validation."
   ]
  },
  {
   "cell_type": "code",
   "execution_count": 40,
   "metadata": {},
   "outputs": [
    {
     "name": "stdout",
     "output_type": "stream",
     "text": [
      "Updating Metadata\n"
     ]
    }
   ],
   "source": [
    "if create_metadata:\n",
    "    print(\"Updating Metadata\")\n",
    "    # Modify here\n",
    "    # metadata.set_primary_key(column_name='')\n",
    "    # metadata.update_column(\n",
    "        # column_name='age',\n",
    "        # sdtype='numerical'\n",
    "    # )"
   ]
  },
  {
   "cell_type": "markdown",
   "metadata": {},
   "source": [
    "Inspect and Validate the Metadata again"
   ]
  },
  {
   "cell_type": "code",
   "execution_count": 41,
   "metadata": {},
   "outputs": [
    {
     "name": "stdout",
     "output_type": "stream",
     "text": [
      "Round 2: Inspect and Validate\n",
      "{'age': {'sdtype': 'numerical'}, 'type_employer': {'sdtype': 'categorical'}, 'fnlwgt': {'sdtype': 'numerical'}, 'education': {'sdtype': 'categorical'}, 'education_num': {'sdtype': 'numerical'}, 'marital': {'sdtype': 'categorical'}, 'occupation': {'sdtype': 'categorical'}, 'relationship': {'sdtype': 'categorical'}, 'race': {'sdtype': 'categorical'}, 'sex': {'sdtype': 'categorical'}, 'capital_gain': {'sdtype': 'numerical'}, 'capital_loss': {'sdtype': 'numerical'}, 'hr_per_week': {'sdtype': 'numerical'}, 'country': {'sdtype': 'categorical'}, 'income': {'sdtype': 'categorical'}}\n"
     ]
    }
   ],
   "source": [
    "if create_metadata:\n",
    "    print(\"Round 2: Inspect and Validate\")\n",
    "    metadata_dict = metadata.to_dict()['columns']\n",
    "    print(metadata_dict)\n",
    "    metadata.visualize(\n",
    "        show_table_details='full',\n",
    "        output_filepath=dataset_selection+'_metadata_stats.png'\n",
    "    )\n",
    "    # there should be no error messages caused by the following method calls\n",
    "    metadata.validate()\n",
    "    metadata.validate_data(dataframe)"
   ]
  },
  {
   "cell_type": "markdown",
   "metadata": {},
   "source": [
    "Once Satisfied, Save the Metadata"
   ]
  },
  {
   "cell_type": "code",
   "execution_count": 42,
   "metadata": {},
   "outputs": [
    {
     "name": "stdout",
     "output_type": "stream",
     "text": [
      "Saving Metadata\n"
     ]
    }
   ],
   "source": [
    "if create_metadata:\n",
    "    print(\"Saving Metadata\")\n",
    "    metadata.save_to_json(dataset_selection+'.json')"
   ]
  },
  {
   "cell_type": "markdown",
   "metadata": {},
   "source": [
    "## Synthetic Data Generation Block"
   ]
  },
  {
   "cell_type": "code",
   "execution_count": 9,
   "metadata": {},
   "outputs": [],
   "source": [
    "synthesizer = BaseSingleTableSynthesizer(metadata)\n",
    "synth_method = algorithms[param[1]]\n",
    "synth_filepath = dataset_selection+'_'+synth_method+'_synthesizer.pkl'\n",
    "if synth_method == 'ctgan':\n",
    "    if create_synthesizer:\n",
    "        synthesizer = CTGANSynthesizer(metadata)\n",
    "        synthesizer.fit(dataframe)\n",
    "    else:\n",
    "        synthesizer = CTGANSynthesizer.load(filepath=synth_filepath)\n",
    "elif synth_method == 'tvae':\n",
    "    if create_synthesizer:\n",
    "        synthesizer = TVAESynthesizer(metadata)\n",
    "        synthesizer.fit(dataframe)\n",
    "    else:\n",
    "        synthesizer = TVAESynthesizer.load(filepath=synth_filepath)\n",
    "elif synth_method == 'gaussiancopula':\n",
    "    if create_synthesizer:\n",
    "        synthesizer = GaussianCopulaSynthesizer(metadata)\n",
    "        synthesizer.fit(dataframe)\n",
    "    else:\n",
    "        synthesizer = GaussianCopulaSynthesizer.load(filepath=synth_filepath)\n",
    "elif synth_method == 'copulagan':\n",
    "    if create_synthesizer:\n",
    "        synthesizer = CopulaGANSynthesizer(metadata)\n",
    "        synthesizer.fit(dataframe)\n",
    "    else:\n",
    "        synthesizer = CopulaGANSynthesizer.load(filepath=synth_filepath)\n",
    "else:\n",
    "    print(\"ERROR: Invalid Synthesis Method Selected\")\n",
    "\n",
    "synthetic_data = synthesizer.sample(num_rows=1000)"
   ]
  },
  {
   "cell_type": "code",
   "execution_count": 50,
   "metadata": {},
   "outputs": [],
   "source": [
    "#save the synthesizer for future use\n",
    "should_save = False\n",
    "if should_save:\n",
    "    synthesizer.save(\n",
    "        filepath=synth_filepath\n",
    "    )"
   ]
  },
  {
   "cell_type": "markdown",
   "metadata": {},
   "source": [
    "## Synthetic Data Evaluation Block"
   ]
  }
 ],
 "metadata": {
  "interpreter": {
   "hash": "31f2aee4e71d21fbe5cf8b01ff0e069b9275f58929596ceb00d14d90e3e16cd6"
  },
  "kernelspec": {
   "display_name": "Python 3.9.6 64-bit",
   "name": "python3"
  },
  "language_info": {
   "codemirror_mode": {
    "name": "ipython",
    "version": 3
   },
   "file_extension": ".py",
   "mimetype": "text/x-python",
   "name": "python",
   "nbconvert_exporter": "python",
   "pygments_lexer": "ipython3",
   "version": "3.9.6"
  },
  "orig_nbformat": 4
 },
 "nbformat": 4,
 "nbformat_minor": 2
}
