{
 "cells": [
  {
   "cell_type": "markdown",
   "metadata": {},
   "source": [
    "### Import the Data"
   ]
  },
  {
   "cell_type": "code",
   "execution_count": 2,
   "metadata": {},
   "outputs": [
    {
     "name": "stdout",
     "output_type": "stream",
     "text": [
      "[KeOps] /Users/chhduong/.cache/keops2.1.2/Darwin_CHHDUONG-M-F2GZ_23.2.0_p3.9.6 has been cleaned.\n",
      "[KeOps] Generating code for formula Sum_Reduction((Var(0,3,0)-Var(1,3,1))|(Var(0,3,0)-Var(1,3,1)),1) ... OK\n",
      "[pyKeOps] Compiling pykeops cpp cb73cd1bce module ... OK\n",
      "pyKeOps with numpy bindings is working!\n",
      "pyKeOps with torch bindings is working!\n"
     ]
    }
   ],
   "source": [
    "import pandas as pd\n",
    "from sdv.metadata import SingleTableMetadata\n",
    "from sdv.single_table import CTGANSynthesizer\n",
    "\n",
    "# train_df = pd.read_csv('test_data/adults_train-test.csv')\n",
    "train_df = pd.read_parquet('datasets/adults_train.parquet')\n",
    "\n",
    "control_df = pd.read_csv('test_data/adults_control-test.csv')\n",
    "synth_df = pd.read_parquet('test_data/adults_syn_ctgan.parquet')\n",
    "synth_filepath = 'test_data/dataset_adults_train_ctgan_synthesizer.pkl'\n",
    "synthesizer = CTGANSynthesizer.load(filepath=synth_filepath)\n",
    "\n",
    "##make sure these libraries work\n",
    "import pykeops \n",
    "#make sure omp.h is also working, may need to google if warning occurs or run this code block twice\n",
    "#make sure all libraries are include, you may need to find the header files and move them locally so they can be imported\n",
    "pykeops.clean_pykeops()   \n",
    "pykeops.test_numpy_bindings() \n",
    "pykeops.test_torch_bindings() \n"
   ]
  },
  {
   "cell_type": "markdown",
   "metadata": {},
   "source": [
    "### LabelOnlyDecisionBoundary?"
   ]
  },
  {
   "cell_type": "code",
   "execution_count": 3,
   "metadata": {},
   "outputs": [],
   "source": [
    "# from art.attacks.inference.membership_inference import LabelOnlyDecisionBoundary\n"
   ]
  },
  {
   "cell_type": "markdown",
   "metadata": {},
   "source": [
    "### DOMIAS Overfitting"
   ]
  },
  {
   "cell_type": "code",
   "execution_count": 3,
   "metadata": {},
   "outputs": [
    {
     "name": "stderr",
     "output_type": "stream",
     "text": [
      "/Users/chhduong/Library/Python/3.9/lib/python/site-packages/pyarrow/pandas_compat.py:373: FutureWarning: is_sparse is deprecated and will be removed in a future version. Check `isinstance(dtype, pd.SparseDtype)` instead.\n",
      "  if _pandas_api.is_sparse(col):\n"
     ]
    }
   ],
   "source": [
    "#convert columns to numbers\n",
    "# dummies = pd.get_dummies(\n",
    "#     data=train_df, \n",
    "#     columns =['type_employer', 'education', 'marital', 'occupation', 'relationship', 'race', 'sex', 'country', 'income'], \n",
    "#     dtype=int\n",
    "# )\n",
    "# merged = pd.concat([train_df, dummies], axis='columns')\n",
    "# merged.drop(\n",
    "#     ['type_employer', 'education', 'marital', 'occupation', 'relationship', 'race', 'sex', 'country', 'income'], \n",
    "#     axis='columns', \n",
    "#     inplace=True\n",
    "# )\n",
    "# train_df = dummies\n",
    "# train_df.to_parquet('test_data/temp_train.parquet')\n",
    "# train_df = pd.read_parquet('test_data/temp_train.parquet')\n",
    "\n",
    "## Easier to just drop all non-numerical columns\n",
    "# train_df.drop(\n",
    "#     ['type_employer', 'education', 'marital', 'occupation', 'relationship', 'race', 'sex', 'country', 'income'], \n",
    "#     axis='columns', \n",
    "#     inplace=True\n",
    "# )\n",
    "\n",
    "#smarter way to convert columns to numbers\n",
    "transformed_df = train_df\n",
    "for col in ['type_employer', 'education', 'marital', 'occupation', 'relationship', 'race', 'sex', 'country', 'income']:\n",
    "    uniques = transformed_df[col].unique()\n",
    "    for index, value in enumerate(uniques):\n",
    "        transformed_df.loc[transformed_df[col] == value, col] = index+1\n",
    "\n",
    "train_df = transformed_df\n",
    "train_df.to_parquet('test_data/temp_train.parquet')\n",
    "train_df = pd.read_parquet('test_data/temp_train.parquet')\n",
    "\n",
    "## For some reason, country is causing the evaluator to run into an singular matrix exception.\n",
    "train_df.drop(\n",
    "    ['country'], \n",
    "    axis='columns', \n",
    "    inplace=True\n",
    ")"
   ]
  },
  {
   "cell_type": "code",
   "execution_count": 5,
   "metadata": {},
   "outputs": [
    {
     "name": "stderr",
     "output_type": "stream",
     "text": [
      "/Users/chhduong/Library/Python/3.9/lib/python/site-packages/rdt/transformers/base.py:132: FutureWarning: Future versions of RDT will not support the 'model_missing_values' parameter. Please switch to using the 'missing_value_generation' parameter to select your strategy.\n",
      "  warnings.warn(\n",
      "/Users/chhduong/Library/Python/3.9/lib/python/site-packages/rdt/transformers/base.py:132: FutureWarning: Future versions of RDT will not support the 'model_missing_values' parameter. Please switch to using the 'missing_value_generation' parameter to select your strategy.\n",
      "  warnings.warn(\n",
      "/Users/chhduong/Library/Python/3.9/lib/python/site-packages/rdt/transformers/base.py:132: FutureWarning: Future versions of RDT will not support the 'model_missing_values' parameter. Please switch to using the 'missing_value_generation' parameter to select your strategy.\n",
      "  warnings.warn(\n",
      "/Users/chhduong/Library/Python/3.9/lib/python/site-packages/rdt/transformers/base.py:132: FutureWarning: Future versions of RDT will not support the 'model_missing_values' parameter. Please switch to using the 'missing_value_generation' parameter to select your strategy.\n",
      "  warnings.warn(\n",
      "/Users/chhduong/Library/Python/3.9/lib/python/site-packages/rdt/transformers/base.py:132: FutureWarning: Future versions of RDT will not support the 'model_missing_values' parameter. Please switch to using the 'missing_value_generation' parameter to select your strategy.\n",
      "  warnings.warn(\n",
      "/Users/chhduong/Library/Python/3.9/lib/python/site-packages/rdt/transformers/base.py:132: FutureWarning: Future versions of RDT will not support the 'model_missing_values' parameter. Please switch to using the 'missing_value_generation' parameter to select your strategy.\n",
      "  warnings.warn(\n",
      "/Users/chhduong/Library/Python/3.9/lib/python/site-packages/rdt/transformers/base.py:132: FutureWarning: Future versions of RDT will not support the 'model_missing_values' parameter. Please switch to using the 'missing_value_generation' parameter to select your strategy.\n",
      "  warnings.warn(\n",
      "/Users/chhduong/Library/Python/3.9/lib/python/site-packages/rdt/transformers/base.py:132: FutureWarning: Future versions of RDT will not support the 'model_missing_values' parameter. Please switch to using the 'missing_value_generation' parameter to select your strategy.\n",
      "  warnings.warn(\n",
      "/Users/chhduong/Library/Python/3.9/lib/python/site-packages/rdt/transformers/base.py:132: FutureWarning: Future versions of RDT will not support the 'model_missing_values' parameter. Please switch to using the 'missing_value_generation' parameter to select your strategy.\n",
      "  warnings.warn(\n",
      "/Users/chhduong/Library/Python/3.9/lib/python/site-packages/rdt/transformers/base.py:132: FutureWarning: Future versions of RDT will not support the 'model_missing_values' parameter. Please switch to using the 'missing_value_generation' parameter to select your strategy.\n",
      "  warnings.warn(\n",
      "/Users/chhduong/Library/Python/3.9/lib/python/site-packages/rdt/transformers/base.py:132: FutureWarning: Future versions of RDT will not support the 'model_missing_values' parameter. Please switch to using the 'missing_value_generation' parameter to select your strategy.\n",
      "  warnings.warn(\n",
      "/Users/chhduong/Library/Python/3.9/lib/python/site-packages/rdt/transformers/base.py:132: FutureWarning: Future versions of RDT will not support the 'model_missing_values' parameter. Please switch to using the 'missing_value_generation' parameter to select your strategy.\n",
      "  warnings.warn(\n",
      "/Users/chhduong/Library/Python/3.9/lib/python/site-packages/rdt/transformers/base.py:132: FutureWarning: Future versions of RDT will not support the 'model_missing_values' parameter. Please switch to using the 'missing_value_generation' parameter to select your strategy.\n",
      "  warnings.warn(\n",
      "/Users/chhduong/Library/Python/3.9/lib/python/site-packages/rdt/transformers/base.py:132: FutureWarning: Future versions of RDT will not support the 'model_missing_values' parameter. Please switch to using the 'missing_value_generation' parameter to select your strategy.\n",
      "  warnings.warn(\n"
     ]
    },
    {
     "name": "stdout",
     "output_type": "stream",
     "text": [
      "[KeOps] Generating code for formula Max_SumShiftExpWeight_Reduction(Concat(Var(2,1,1)-Var(3,1,2)*(((Var(0,1,0)-Var(1,1,1))*Sum(Var(0,1,0)-Var(1,1,1)))/2),1),0) ... OK\n",
      "[pyKeOps] Compiling pykeops cpp c0c0296eaf module ... "
     ]
    },
    {
     "name": "stderr",
     "output_type": "stream",
     "text": [
      "/Users/chhduong/Library/Python/3.9/lib/python/site-packages/sklearn/base.py:443: UserWarning: X has feature names, but MinMaxScaler was fitted without feature names\n",
      "  warnings.warn(\n",
      "/Users/chhduong/Library/Python/3.9/lib/python/site-packages/sklearn/utils/validation.py:757: FutureWarning: is_sparse is deprecated and will be removed in a future version. Check `isinstance(dtype, pd.SparseDtype)` instead.\n",
      "  if not hasattr(array, \"sparse\") and array.dtypes.apply(is_sparse).any():\n",
      "/Users/chhduong/Library/Python/3.9/lib/python/site-packages/sklearn/utils/validation.py:595: FutureWarning: is_sparse is deprecated and will be removed in a future version. Check `isinstance(dtype, pd.SparseDtype)` instead.\n",
      "  if is_sparse(pd_dtype):\n",
      "/Users/chhduong/Library/Python/3.9/lib/python/site-packages/sklearn/utils/validation.py:604: FutureWarning: is_sparse is deprecated and will be removed in a future version. Check `isinstance(dtype, pd.SparseDtype)` instead.\n",
      "  if is_sparse(pd_dtype) or not is_extension_array_dtype(pd_dtype):\n"
     ]
    },
    {
     "name": "stdout",
     "output_type": "stream",
     "text": [
      "OK\n"
     ]
    },
    {
     "name": "stderr",
     "output_type": "stream",
     "text": [
      "/Users/chhduong/Library/Python/3.9/lib/python/site-packages/domias/baselines.py:38: RuntimeWarning: overflow encountered in exp\n",
      "  return 1 / (1 + np.exp(-x))\n",
      "/Users/chhduong/Library/Python/3.9/lib/python/site-packages/rdt/transformers/base.py:132: FutureWarning: Future versions of RDT will not support the 'model_missing_values' parameter. Please switch to using the 'missing_value_generation' parameter to select your strategy.\n",
      "  warnings.warn(\n",
      "/Users/chhduong/Library/Python/3.9/lib/python/site-packages/rdt/transformers/base.py:132: FutureWarning: Future versions of RDT will not support the 'model_missing_values' parameter. Please switch to using the 'missing_value_generation' parameter to select your strategy.\n",
      "  warnings.warn(\n",
      "/Users/chhduong/Library/Python/3.9/lib/python/site-packages/rdt/transformers/base.py:132: FutureWarning: Future versions of RDT will not support the 'model_missing_values' parameter. Please switch to using the 'missing_value_generation' parameter to select your strategy.\n",
      "  warnings.warn(\n",
      "/Users/chhduong/Library/Python/3.9/lib/python/site-packages/rdt/transformers/base.py:132: FutureWarning: Future versions of RDT will not support the 'model_missing_values' parameter. Please switch to using the 'missing_value_generation' parameter to select your strategy.\n",
      "  warnings.warn(\n",
      "/Users/chhduong/Library/Python/3.9/lib/python/site-packages/rdt/transformers/base.py:132: FutureWarning: Future versions of RDT will not support the 'model_missing_values' parameter. Please switch to using the 'missing_value_generation' parameter to select your strategy.\n",
      "  warnings.warn(\n",
      "/Users/chhduong/Library/Python/3.9/lib/python/site-packages/rdt/transformers/base.py:132: FutureWarning: Future versions of RDT will not support the 'model_missing_values' parameter. Please switch to using the 'missing_value_generation' parameter to select your strategy.\n",
      "  warnings.warn(\n",
      "/Users/chhduong/Library/Python/3.9/lib/python/site-packages/rdt/transformers/base.py:132: FutureWarning: Future versions of RDT will not support the 'model_missing_values' parameter. Please switch to using the 'missing_value_generation' parameter to select your strategy.\n",
      "  warnings.warn(\n",
      "/Users/chhduong/Library/Python/3.9/lib/python/site-packages/rdt/transformers/base.py:132: FutureWarning: Future versions of RDT will not support the 'model_missing_values' parameter. Please switch to using the 'missing_value_generation' parameter to select your strategy.\n",
      "  warnings.warn(\n",
      "/Users/chhduong/Library/Python/3.9/lib/python/site-packages/rdt/transformers/base.py:132: FutureWarning: Future versions of RDT will not support the 'model_missing_values' parameter. Please switch to using the 'missing_value_generation' parameter to select your strategy.\n",
      "  warnings.warn(\n",
      "/Users/chhduong/Library/Python/3.9/lib/python/site-packages/rdt/transformers/base.py:132: FutureWarning: Future versions of RDT will not support the 'model_missing_values' parameter. Please switch to using the 'missing_value_generation' parameter to select your strategy.\n",
      "  warnings.warn(\n",
      "/Users/chhduong/Library/Python/3.9/lib/python/site-packages/rdt/transformers/base.py:132: FutureWarning: Future versions of RDT will not support the 'model_missing_values' parameter. Please switch to using the 'missing_value_generation' parameter to select your strategy.\n",
      "  warnings.warn(\n",
      "/Users/chhduong/Library/Python/3.9/lib/python/site-packages/rdt/transformers/base.py:132: FutureWarning: Future versions of RDT will not support the 'model_missing_values' parameter. Please switch to using the 'missing_value_generation' parameter to select your strategy.\n",
      "  warnings.warn(\n",
      "/Users/chhduong/Library/Python/3.9/lib/python/site-packages/rdt/transformers/base.py:132: FutureWarning: Future versions of RDT will not support the 'model_missing_values' parameter. Please switch to using the 'missing_value_generation' parameter to select your strategy.\n",
      "  warnings.warn(\n",
      "/Users/chhduong/Library/Python/3.9/lib/python/site-packages/rdt/transformers/base.py:132: FutureWarning: Future versions of RDT will not support the 'model_missing_values' parameter. Please switch to using the 'missing_value_generation' parameter to select your strategy.\n",
      "  warnings.warn(\n"
     ]
    }
   ],
   "source": [
    "from domias.evaluator import evaluate_performance\n",
    "from domias.models.generator import GeneratorInterface\n",
    "from sklearn.preprocessing import StandardScaler\n",
    "import numpy as np\n",
    "\n",
    "# DOMIAS Requires a generator derived from GeneratorInterface \n",
    "# The generator only requires 'fit' and 'generator' methods\n",
    "# For testing, we set this up with CTGANSynthesizer\n",
    "def get_generator(\n",
    "    synthesizer,\n",
    "    data\n",
    ") -> GeneratorInterface:\n",
    "    class LocalGenerator(GeneratorInterface):\n",
    "        def __init__(self) -> None:\n",
    "            self.model = synthesizer\n",
    "            self.data = data\n",
    "        def fit(self, data: pd.DataFrame) -> \"LocalGenerator\":\n",
    "            self.model.fit(self.data)\n",
    "            # self.model.fit(data)\n",
    "            return self\n",
    "        def generate(self, count: int) -> pd.DataFrame:\n",
    "            return self.model.sample(count)\n",
    "    return LocalGenerator()\n",
    "\n",
    "mem_set_size = 30000\n",
    "reference_set_size = 39000\n",
    "training_epochs = 10\n",
    "synthetic_sizes = [10000]\n",
    "density_estimator = \"prior\"  # prior, kde, bnaf\n",
    "\n",
    "metadata = SingleTableMetadata()\n",
    "metadata.detect_from_dataframe(train_df)\n",
    "# metadata_dict = metadata.to_dict()\n",
    "# print(metadata_dict)\n",
    "dataset = train_df.to_numpy()\n",
    "# scaler = StandardScaler()\n",
    "# dataset = scaler.fit_transform(train_df)\n",
    "\n",
    "synthesizer = CTGANSynthesizer(\n",
    "    metadata=metadata,\n",
    "    epochs=training_epochs,\n",
    ")\n",
    "generator = get_generator(synthesizer, train_df)\n",
    "\n",
    "perf = evaluate_performance(\n",
    "    generator,\n",
    "    dataset,\n",
    "    mem_set_size,\n",
    "    reference_set_size,\n",
    "    training_epochs=training_epochs,\n",
    "    synthetic_sizes=synthetic_sizes,\n",
    "    density_estimator=density_estimator,\n",
    ")"
   ]
  },
  {
   "cell_type": "code",
   "execution_count": 6,
   "metadata": {},
   "outputs": [
    {
     "name": "stdout",
     "output_type": "stream",
     "text": [
      "MIA_performance\n",
      "{'ablated_eq1': {'accuracy': 0.4954908792785407, 'aucroc': 0.4949393600531444}, 'ablated_eq2': {'accuracy': 0.4968231194916991, 'aucroc': 0.4953225642161204}, 'LOGAN_D1': {'accuracy': 0.5, 'aucroc': 0.4996700232506643}, 'MC': {'accuracy': 0.501024800163968, 'aucroc': 0.5013849959403602}, 'gan_leaks': {'accuracy': 0.39616212338593976, 'aucroc': 0.4979407624741659}, 'gan_leaks_cal': {'accuracy': 0.3880405820864931, 'aucroc': 0.4980730513728963}, 'LOGAN_0': {'accuracy': 0.49887271981963516, 'aucroc': 0.4964305118836729}, 'eq1': {'accuracy': 0.4954908792785407, 'aucroc': 0.4949393600531444}, 'domias': {'accuracy': 0.4954908792785407, 'aucroc': 0.4949393600531444}}\n",
      "MIA_scores\n",
      "{'ablated_eq1': array([2.18439302e-23, 3.83772329e-22, 1.88270983e-21, ...,\n",
      "       1.32422853e-22, 1.73063919e-21, 1.04738489e-22]), 'ablated_eq2': array([0.00201283, 0.01096947, 0.01597137, ..., 0.00938871, 0.03192629,\n",
      "       0.00599109]), 'LOGAN_D1': array([31771.479, 79236.36 , 55819.85 , ..., 56986.266, 65739.78 ,\n",
      "       49590.418], dtype=float32), 'MC': array([0.0001, 0.    , 0.0002, ..., 0.    , 0.    , 0.    ]), 'gan_leaks': array([1.24864717e-318, 0.00000000e+000, 1.05306174e-020, ...,\n",
      "       0.00000000e+000, 0.00000000e+000, 0.00000000e+000]), 'gan_leaks_cal': array([8.31994673e-278, 0.00000000e+000, 1.00000000e+000, ...,\n",
      "       0.00000000e+000, 0.00000000e+000, 0.00000000e+000]), 'LOGAN_0': array([[0.99506205],\n",
      "       [1.0663917 ],\n",
      "       [0.42930922],\n",
      "       ...,\n",
      "       [1.2127706 ],\n",
      "       [0.6157573 ],\n",
      "       [0.39893794]], dtype=float32), 'eq1': array([2.18439302e-23, 3.83772329e-22, 1.88270983e-21, ...,\n",
      "       1.32422853e-22, 1.73063919e-21, 1.04738489e-22]), 'domias': array([2.18439302e-13, 3.83772329e-12, 1.88270983e-11, ...,\n",
      "       1.32422853e-12, 1.73063919e-11, 1.04738489e-12])}\n",
      "data\n",
      "{'Xtest': array([[    53,      1, 138022, ...,      0,     60,      1],\n",
      "       [    31,      2, 344200, ...,      0,     40,      2],\n",
      "       [    28,      2, 242482, ...,      0,     40,      1],\n",
      "       ...,\n",
      "       [    38,      2, 247547, ...,      0,     40,      1],\n",
      "       [    48,      2, 285570, ...,      0,     40,      1],\n",
      "       [    39,      2, 215419, ...,      0,     36,      1]]), 'Ytest': array([ True,  True,  True, ..., False, False, False])}\n"
     ]
    }
   ],
   "source": [
    "#TODO: Go through https://github.com/vanderschaarlab/DOMIAS/blob/main/tutorials/experiment_1_housing.ipynb\n",
    "\n",
    "# print(perf)\n",
    "# print(type(perf)\n",
    "\n",
    "for key in perf[10000]:\n",
    "    print(key)\n",
    "    print(perf[10000][key])\n",
    "\n",
    "# print(perf[10000]['data']['Xtest'][0])\n",
    "# print(perf[10000]['data']['Ytest'][0])\n",
    "\n",
    "# AUC by number of iterations\n",
    "# output = pd.DataFrame([], columns=[\"epoch\", \"src\", \"aucroc\"])\n",
    "# for key in perf[10000]['MIA_performance']:\n",
    "#     print(\"====\" + str(key))\n",
    "#     print(perf[10000]['MIA_performance'][key])\n",
    "    # output = pd.concat(\n",
    "    #     [\n",
    "    #         output,\n",
    "    #         pd.DataFrame(\n",
    "    #             [\n",
    "    #                 [training_epochs, key, perf[10000]['MIA_performance'][key][\"aucroc\"]],\n",
    "    #             ],\n",
    "    #             columns=[\"epoch\", \"src\", \"aucroc\"],\n",
    "    #         ),\n",
    "    #     ]\n",
    "    # )"
   ]
  },
  {
   "cell_type": "markdown",
   "metadata": {},
   "source": [
    "### Save and Load Results"
   ]
  },
  {
   "cell_type": "code",
   "execution_count": 19,
   "metadata": {},
   "outputs": [
    {
     "name": "stdout",
     "output_type": "stream",
     "text": [
      "39032\n",
      "19516\n"
     ]
    }
   ],
   "source": [
    "# results = perf[10000]['data']\n",
    "# xtest = results['Xtest']\n",
    "# ytest = results['Ytest']\n",
    "# type(xtest)\n",
    "# xtest_df = pd.DataFrame(xtest)\n",
    "# train_ndarray = train_df.to_numpy()\n",
    "\n",
    "# #result: xtest and train data are the same, ytest is just whether the train data row exists in the synthetic dataset\n",
    "# anonymeter uses: n_attacks and n_success\n",
    "\n",
    "mia_scores = perf[10000]['MIA_scores']['domias']\n",
    "y_pred = mia_scores > np.median(mia_scores)\n",
    "n_attacks = y_pred.size\n",
    "n_success = (y_pred == True).sum()\n",
    "print(n_attacks)\n",
    "print(n_success)"
   ]
  }
 ],
 "metadata": {
  "interpreter": {
   "hash": "31f2aee4e71d21fbe5cf8b01ff0e069b9275f58929596ceb00d14d90e3e16cd6"
  },
  "kernelspec": {
   "display_name": "Python 3.9.6 64-bit",
   "name": "python3"
  },
  "language_info": {
   "codemirror_mode": {
    "name": "ipython",
    "version": 3
   },
   "file_extension": ".py",
   "mimetype": "text/x-python",
   "name": "python",
   "nbconvert_exporter": "python",
   "pygments_lexer": "ipython3",
   "version": "3.9.6"
  },
  "orig_nbformat": 4
 },
 "nbformat": 4,
 "nbformat_minor": 2
}
