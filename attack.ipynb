{
 "cells": [
  {
   "cell_type": "code",
   "execution_count": 1,
   "metadata": {},
   "outputs": [
    {
     "name": "stdout",
     "output_type": "stream",
     "text": [
      "[KeOps] Warning : omp.h header is not in the path, disabling OpenMP.\n",
      "[KeOps] Warning : Cuda libraries were not detected on the system ; using cpu only mode\n",
      "[KeOps] /Users/chhduong/.cache/keops2.1.2/Darwin_CHHDUONG-M-F2GZ_23.3.0_p3.9.6 has been cleaned.\n",
      "[KeOps] Generating code for formula Sum_Reduction((Var(0,3,0)-Var(1,3,1))|(Var(0,3,0)-Var(1,3,1)),1) ... OK\n",
      "[pyKeOps] Compiling pykeops cpp cb73cd1bce module ... "
     ]
    },
    {
     "name": "stderr",
     "output_type": "stream",
     "text": [
      "<stdin>:1:10: fatal error: 'omp.h' file not found\n",
      "#include <omp.h>\n",
      "         ^~~~~~~\n",
      "1 error generated.\n"
     ]
    },
    {
     "name": "stdout",
     "output_type": "stream",
     "text": [
      "OK\n",
      "pyKeOps with numpy bindings is working!\n",
      "pyKeOps with torch bindings is working!\n",
      "Test Cases for Test Set 1\n",
      "==========\n",
      "{'dataset': 'adults', 'columns_all': False, 'columns': ['age', 'education', 'marital', 'occupation', 'income', 'race', 'sex'], 'synth_type': 'ctgan', 'sample_size': 0.25}\n",
      "{'dataset': 'adults', 'columns_all': False, 'columns': ['age', 'education', 'marital', 'occupation', 'income', 'race', 'sex'], 'synth_type': 'ctgan', 'sample_size': 1}\n",
      "{'dataset': 'adults', 'columns_all': False, 'columns': ['age', 'education', 'marital', 'occupation', 'income', 'race', 'sex'], 'synth_type': 'ctgan', 'sample_size': 2}\n",
      "{'dataset': 'adults', 'columns_all': False, 'columns': ['age', 'education', 'marital', 'occupation', 'income', 'race', 'sex'], 'synth_type': 'dpctgan', 'sample_size': 0.25}\n",
      "{'dataset': 'adults', 'columns_all': False, 'columns': ['age', 'education', 'marital', 'occupation', 'income', 'race', 'sex'], 'synth_type': 'dpctgan', 'sample_size': 1}\n",
      "{'dataset': 'adults', 'columns_all': False, 'columns': ['age', 'education', 'marital', 'occupation', 'income', 'race', 'sex'], 'synth_type': 'dpctgan', 'sample_size': 2}\n",
      "{'dataset': 'adults', 'columns_all': True, 'columns': [], 'synth_type': 'ctgan', 'sample_size': 0.25}\n",
      "{'dataset': 'adults', 'columns_all': True, 'columns': [], 'synth_type': 'ctgan', 'sample_size': 1}\n",
      "{'dataset': 'adults', 'columns_all': True, 'columns': [], 'synth_type': 'ctgan', 'sample_size': 2}\n",
      "{'dataset': 'adults', 'columns_all': True, 'columns': [], 'synth_type': 'dpctgan', 'sample_size': 0.25}\n",
      "{'dataset': 'adults', 'columns_all': True, 'columns': [], 'synth_type': 'dpctgan', 'sample_size': 1}\n",
      "{'dataset': 'adults', 'columns_all': True, 'columns': [], 'synth_type': 'dpctgan', 'sample_size': 2}\n"
     ]
    }
   ],
   "source": [
    "import pandas as pd\n",
    "\n",
    "from components.data_synthesis import prep_metadata\n",
    "from components.privacy_attack import PrivacyAttack\n",
    "\n",
    "import pickle\n",
    "\n",
    "#Round Parameters\n",
    "# dataset\n",
    "# round number\n",
    "# synthetic type\n",
    "#attack sizes: 10%, 50%, 100%, default is 10%\n",
    "attack_size = 10#data selection\n",
    "datasets = ['adults','diabetes','census1990'] #0,1,2\n",
    "#columns cases #1, 0\n",
    "all_columns = True \n",
    "select_columns = {\n",
    "    'adults': ['age', 'education', 'marital', 'occupation', 'income', 'race', 'sex'],\n",
    "    'diabetes': ['Diabetes_012', 'HighBP', 'HighChol', 'CholCheck', 'Stroke', 'HeartDiseaseorAttack', 'HvyAlcoholConsump', 'AnyHealthcare', 'GenHlth', 'MentHlth', 'PhysHlth', 'Sex', 'Age'],\n",
    "    'census1990': ['dAge', 'iMartial', 'iOccup', 'iSex', 'iSchool', 'iMilitary', 'iIndustry', 'iImmigr', 'iCitizen']\n",
    "}\n",
    "#synthesis method\n",
    "synth_type = ['ctgan', 'dpctgan'] # 0,1\n",
    "sample_size = [0.25, 1, 2] # 0,1,2\n",
    "# epochs = [0.1, 0.5, 1] # 0,1,2\n",
    "epochs = 0.1\n",
    "\n",
    "#first set of data: \n",
    "# Adults, CTGAN vs DPCTGAN, \n",
    "# All Columns vs Select Columns, \n",
    "# Various Sample Size and Attack Size\n",
    "\n",
    "test_cases_1 = []\n",
    "for a in range (0,2):\n",
    "    scenario = {'dataset': 'adults'}\n",
    "    if a == 0:\n",
    "        scenario['columns_all'] = False\n",
    "        scenario['columns'] = select_columns['adults']\n",
    "    else:\n",
    "        scenario['columns_all'] = True\n",
    "        scenario['columns'] = []\n",
    "    for b in synth_type:\n",
    "        scenario['synth_type'] = b\n",
    "        for c in sample_size:\n",
    "            scenario['sample_size'] = c\n",
    "            test_cases_1.append({\n",
    "                'dataset': scenario['dataset'],\n",
    "                'columns_all': scenario['columns_all'], \n",
    "                'columns': scenario['columns'], \n",
    "                'synth_type': scenario['synth_type'],\n",
    "                'sample_size': scenario['sample_size']\n",
    "            })\n",
    "\n",
    "print(\"Test Cases for Test Set 1\\n==========\")\n",
    "for test_case in test_cases_1:\n",
    "    print(test_case)\n",
    "\n",
    "#second set of data: \n",
    "# Adults vs US Census vs Diabetes, \n",
    "# CTGAN vs DPCTGAN, \n",
    "# All Columns, \n",
    "# 100% Sample Size and Attack Size\n",
    "\n",
    "test_cases_2 = []\n",
    "for a in datasets:\n",
    "    scenario = {}\n",
    "    scenario = {'dataset': a}\n",
    "    for b in synth_type:\n",
    "        scenario['synth_type'] = b\n",
    "        test_cases_2.append({\n",
    "            'dataset': scenario['dataset'],\n",
    "            'columns_all': True, \n",
    "            'columns': [], \n",
    "            'synth_type': scenario['synth_type'],\n",
    "            'sample_size': 1\n",
    "        }) "
   ]
  },
  {
   "cell_type": "code",
   "execution_count": 2,
   "metadata": {},
   "outputs": [
    {
     "name": "stdout",
     "output_type": "stream",
     "text": [
      "Round:  0\n",
      "0_adults_ctgan_all_39032\n",
      "[KeOps] Generating code for formula Max_SumShiftExpWeight_Reduction(Concat(Var(2,1,1)-Var(3,1,2)*(((Var(0,1,0)-Var(1,1,1))*Sum(Var(0,1,0)-Var(1,1,1)))/2),1),0) ... OK\n",
      "[pyKeOps] Compiling pykeops cpp c0c0296eaf module ... OK\n",
      "0_adults_dpctgan_all_39032\n",
      "0_diabetes_ctgan_all_202944\n"
     ]
    },
    {
     "name": "stderr",
     "output_type": "stream",
     "text": [
      "Python(55495) MallocStackLogging: can't turn off malloc stack logging because it was not enabled.\n",
      "Python(55496) MallocStackLogging: can't turn off malloc stack logging because it was not enabled.\n",
      "Python(55497) MallocStackLogging: can't turn off malloc stack logging because it was not enabled.\n",
      "Python(55498) MallocStackLogging: can't turn off malloc stack logging because it was not enabled.\n",
      "Python(55499) MallocStackLogging: can't turn off malloc stack logging because it was not enabled.\n",
      "Python(55500) MallocStackLogging: can't turn off malloc stack logging because it was not enabled.\n",
      "Python(55501) MallocStackLogging: can't turn off malloc stack logging because it was not enabled.\n",
      "Python(55502) MallocStackLogging: can't turn off malloc stack logging because it was not enabled.\n",
      "Python(55503) MallocStackLogging: can't turn off malloc stack logging because it was not enabled.\n",
      "Python(55504) MallocStackLogging: can't turn off malloc stack logging because it was not enabled.\n",
      "Python(55505) MallocStackLogging: can't turn off malloc stack logging because it was not enabled.\n",
      "Python(55506) MallocStackLogging: can't turn off malloc stack logging because it was not enabled.\n",
      "Python(55542) MallocStackLogging: can't turn off malloc stack logging because it was not enabled.\n",
      "Python(55543) MallocStackLogging: can't turn off malloc stack logging because it was not enabled.\n",
      "Python(55544) MallocStackLogging: can't turn off malloc stack logging because it was not enabled.\n",
      "Python(55545) MallocStackLogging: can't turn off malloc stack logging because it was not enabled.\n",
      "Python(55546) MallocStackLogging: can't turn off malloc stack logging because it was not enabled.\n",
      "Python(55547) MallocStackLogging: can't turn off malloc stack logging because it was not enabled.\n",
      "Python(55549) MallocStackLogging: can't turn off malloc stack logging because it was not enabled.\n",
      "Python(55550) MallocStackLogging: can't turn off malloc stack logging because it was not enabled.\n",
      "Python(55551) MallocStackLogging: can't turn off malloc stack logging because it was not enabled.\n",
      "Python(55552) MallocStackLogging: can't turn off malloc stack logging because it was not enabled.\n"
     ]
    },
    {
     "name": "stdout",
     "output_type": "stream",
     "text": [
      "0_diabetes_dpctgan_all_202944\n"
     ]
    }
   ],
   "source": [
    "for i in range(0,10):\n",
    "    print(\"Round: \", i)\n",
    "    # test_case = test_cases_1[0] #testing with 1 for now\n",
    "    for test_case in test_cases_2:\n",
    "        train_df = pd.read_parquet('dataset/' + test_case['dataset'] + '_train.parquet')\n",
    "        control_df = pd.read_parquet('dataset/' + test_case['dataset'] + '_control.parquet')\n",
    "        dataset_size = train_df.shape[0]\n",
    "        size = (int)(dataset_size * test_case['sample_size'])\n",
    "        file_suffix = str(i) + \"_\" +\\\n",
    "            test_case['dataset'] + \"_\" +\\\n",
    "            test_case['synth_type'] + \"_\" +\\\n",
    "            (\"all\" if test_case[\"columns_all\"] else \"some\")  + \"_\" +\\\n",
    "            str(size)\n",
    "        print(file_suffix)\n",
    "        synth_df = pd.read_parquet('dataset/synthetic/testset2_' + file_suffix + '.parquet')\n",
    "        metadata = prep_metadata(train_df)\n",
    "        metadata_dict = metadata.to_dict()\n",
    "        #Attack\n",
    "        privacyattack = PrivacyAttack(metadata)\n",
    "        params = privacyattack.get_default_params()\n",
    "        params['domias_mem_set_size'] = train_df.shape[0]\n",
    "        params['domias_reference_set_size'] = control_df.shape[0]\n",
    "        params['anon_inf_attacks'] = int(synth_df.shape[0]*attack_size/100)\n",
    "        params['domias_synthetic_sizes'] = int(synth_df.shape[0]*attack_size/100)\n",
    "        results = privacyattack.inference_attack(\n",
    "            params = params,\n",
    "            original_data = train_df,\n",
    "            synth_data = synth_df,\n",
    "            control_data = control_df,    \n",
    "        )\n",
    "        #save results\n",
    "        with open('dataset/results/attack_' + str(attack_size) + '_testset2_' + file_suffix + '.pkl', 'wb+') as f:\n",
    "            pickle.dump(results, f)"
   ]
  }
 ],
 "metadata": {
  "interpreter": {
   "hash": "31f2aee4e71d21fbe5cf8b01ff0e069b9275f58929596ceb00d14d90e3e16cd6"
  },
  "kernelspec": {
   "display_name": "Python 3.9.6 64-bit",
   "name": "python3"
  },
  "language_info": {
   "codemirror_mode": {
    "name": "ipython",
    "version": 3
   },
   "file_extension": ".py",
   "mimetype": "text/x-python",
   "name": "python",
   "nbconvert_exporter": "python",
   "pygments_lexer": "ipython3",
   "version": "3.9.6"
  },
  "orig_nbformat": 4
 },
 "nbformat": 4,
 "nbformat_minor": 2
}
